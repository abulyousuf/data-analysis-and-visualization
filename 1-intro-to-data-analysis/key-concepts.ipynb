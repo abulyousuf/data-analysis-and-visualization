{
 "cells": [
  {
   "cell_type": "markdown",
   "id": "71f7a0c6-379f-4e4a-8b70-129d7a8b487a",
   "metadata": {},
   "source": [
    "# Key concepts in data analysis\n",
    "\n",
    "## Example of how Python and pandas handle variables:"
   ]
  },
  {
   "cell_type": "code",
   "execution_count": 3,
   "id": "5acf800c-7a2a-41fe-b7b7-cd569bc46255",
   "metadata": {},
   "outputs": [
    {
     "name": "stdout",
     "output_type": "stream",
     "text": [
      "60000.0\n",
      "gender\n",
      "female    2\n",
      "male      2\n",
      "Name: count, dtype: int64\n"
     ]
    }
   ],
   "source": [
    "import pandas as pd\n",
    "\n",
    "# Sample data\n",
    "data = {'age': [25, 30, 35, 40],\n",
    "        'gender': ['male', 'female', 'male', 'female'],\n",
    "        'income': [50000, 60000, 75000, 55000]}\n",
    "\n",
    "# Create a DataFrame\n",
    "df = pd.DataFrame(data)\n",
    "\n",
    "# Convert 'gender' to a categorical variable\n",
    "df['gender'] = df['gender'].astype('category')\n",
    "\n",
    "# Calculate average income\n",
    "average_income = df['income'].mean()\n",
    "\n",
    "# Count the number of males and females\n",
    "gender_counts = df['gender'].value_counts()\n",
    "\n",
    "print(average_income)\n",
    "print(gender_counts)"
   ]
  },
  {
   "cell_type": "code",
   "execution_count": null,
   "id": "d4cf4b0b-2c7f-4985-8a9d-d56f98335c64",
   "metadata": {},
   "outputs": [],
   "source": []
  }
 ],
 "metadata": {
  "kernelspec": {
   "display_name": "Python [conda env:base] *",
   "language": "python",
   "name": "conda-base-py"
  },
  "language_info": {
   "codemirror_mode": {
    "name": "ipython",
    "version": 3
   },
   "file_extension": ".py",
   "mimetype": "text/x-python",
   "name": "python",
   "nbconvert_exporter": "python",
   "pygments_lexer": "ipython3",
   "version": "3.12.7"
  }
 },
 "nbformat": 4,
 "nbformat_minor": 5
}
